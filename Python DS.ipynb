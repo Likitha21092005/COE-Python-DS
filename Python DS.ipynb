{
 "cells": [
  {
   "cell_type": "code",
   "execution_count": null,
   "id": "e1bc1f52-ccc9-46fc-8c3a-7a9940701c1d",
   "metadata": {},
   "outputs": [],
   "source": [
    "# 🧠 Data Structures in Python — Quick Notes\n",
    "\n",
    "\n",
    "## ✅ List\n",
    "\n",
    "**Definition:** Ordered, mutable (changeable) collection allowing duplicates.\n",
    "\n",
    "**Use When:** You need a dynamic collection where item order matters.\n",
    "\n",
    "**Common Methods**\n",
    "```python\n",
    "append(x)       # Add item to end,or list also,but treated as a single item\n",
    "extend(iterable) # Add multiple items or single item also,treated as separate items\n",
    "insert(i, x)    # Insert item at a given index\n",
    "remove(x)       # Remove first matching value\n",
    "pop(i)          # Remove and return item at index (default last)\n",
    "sort()          # Sort the list in place\n",
    "sorted(list)    # Return a sorted copy without modifying original\n",
    "reverse()       # Reverse order of the list\n",
    "index(x)        # Find position of first occurrence\n",
    "count(x)        # Count number of occurrences\n",
    "copy()          #copy of the original,the changes done to copy will not effect the original\n",
    "clear()\n",
    "min()\n",
    "max()\n",
    "pop()\n",
    "\n",
    "```\n",
    "\n",
    "#*Tip:* Use lists when you need flexibility — dynamic size or frequent additions.\n",
    "\n",
    "***\n",
    "\n",
    "## ✅ Tuple\n",
    "\n",
    "**Definition:** Ordered, immutable (cannot change) collection.\n",
    "\n",
    "**Use When:** Data must remain constant (like coordinates, configuration).\n",
    "\n",
    "**Common Methods**\n",
    "```python\n",
    "count(x)   # Number of times x appears\n",
    "index(x)   # Position of x\n",
    "```\n",
    "\n",
    "#*Immutability implies.* Safer, predictable, often faster than lists.\n",
    "\n",
    "***\n",
    "\n",
    "## ✅ Set\n",
    "\n",
    "**Definition:** Unordered, mutable collection with *unique* elements only.\n",
    "\n",
    "**Use When:** You want uniqueness and fast membership testing.\n",
    "\n",
    "**Common Methods**\n",
    "```python\n",
    "add(x)             # Add unique item\n",
    "remove(x)          # Remove item (raises error if missing)\n",
    "discard(x)         # Remove item if present, no error if missing\n",
    "pop()              # Remove and return arbitrary item\n",
    "clear()            # Remove all items\n",
    "union(s)           # Combine sets (unique items only)\n",
    "intersection(s)    # Elements common to both sets\n",
    "difference(s)      # Elements in one but not the other\n",
    "issubset(s)        # Test if all elements in self are in s\n",
    "issuperset(s)      # Test if all elements in s are in self\n",
    "```\n",
    "# *Tip:* Use sets to remove duplicates or perform math-style operations on collections.\n",
    "\n",
    "***\n",
    "\n",
    "## ✅ Dictionary\n",
    "\n",
    "**Definition:** Key value pairs, ordered (since Python 3.7+), mutable, fast lookup.\n",
    "\n",
    "**Use When:** You need to map labels to values for quick access.\n",
    "\n",
    "**Common Methods**\n",
    "```python\n",
    "get(key, default)       # Safely get value without error\n",
    "keys()                  # Get all keys\n",
    "values()                # Get all values\n",
    "items()                 # Get key–value pairs\n",
    "update(other_dict)      # Merge another dictionary\n",
    "pop(key)                # Remove and return value for given key\n",
    "popitem()               # Remove and return last added item\n",
    "setdefault(key, default) # Add key with default if missing\n",
    "```\n",
    "\n",
    "# *Tip:* Great for structured or labeled data — like JSON-style objects.\n",
    "\n",
    "***\n",
    "\n",
    "### Quick “When to Use What?” Guide\n",
    "\n",
    "| Structure | Best For                          | Avoid When                                 |\n",
    "| --------- | --------------------------------- | ------------------------------------------ |\n",
    "|   List    | Ordered, frequently updated data  | Need unique items or fast membership tests |\n",
    "|   Tuple   | Fixed data that must be protected | You need to modify values                  |\n",
    "|   Set     | Unique values & fast `in` lookups | Order matters                              |\n",
    "|   Dict    | Fast lookups by key               | Keys may change or duplicate               |\n",
    "\n",
    "\n",
    "\n",
    "\n",
    "\n",
    "\n",
    "\n",
    "\n",
    "\n",
    "\n"
   ]
  },
  {
   "cell_type": "code",
   "execution_count": 12,
   "id": "2e504582-3a66-4007-8478-e15e87a922c3",
   "metadata": {},
   "outputs": [
    {
     "name": "stdout",
     "output_type": "stream",
     "text": [
      "56 78 90 34 "
     ]
    }
   ],
   "source": [
    "#Even numbers in a list\n",
    "a=[23,56,78,90,34]\n",
    "for i in a:\n",
    "    if i%2==0:\n",
    "        print(i,end=\" \")"
   ]
  },
  {
   "cell_type": "code",
   "execution_count": 16,
   "id": "475cbb14-c32a-4fc2-b3c5-09d3246c5291",
   "metadata": {},
   "outputs": [
    {
     "name": "stdout",
     "output_type": "stream",
     "text": [
      "78\n"
     ]
    }
   ],
   "source": [
    "#To print second max element in a list\n",
    "a=[23,56,78,90,34]\n",
    "b=sorted(a,reverse=True)\n",
    "print(b[1])\n",
    "\n",
    "\n",
    "\n",
    "break\n",
    "        else:\n",
    "            print(n)\n"
   ]
  },
  {
   "cell_type": "code",
   "execution_count": 24,
   "id": "629c2ab5-76e4-4560-9754-4e024535c017",
   "metadata": {},
   "outputs": [
    {
     "name": "stdout",
     "output_type": "stream",
     "text": [
      "23\n"
     ]
    }
   ],
   "source": [
    "#Prime numbers in a list\n",
    "a = [23, 56, 78, 90, 34]\n",
    "for n in a:\n",
    "    if n > 1: \n",
    "        for i in range(2, int(n**0.5) + 1):\n",
    "            if n % i == 0:\n",
    "               \n",
    "\n",
    "                 break\n",
    "        else:\n",
    "            print(n)\n",
    "\n",
    "    "
   ]
  },
  {
   "cell_type": "code",
   "execution_count": 1,
   "id": "1b73e5c3-99b8-4e2c-9bf9-1b02a74453d9",
   "metadata": {},
   "outputs": [
    {
     "name": "stdout",
     "output_type": "stream",
     "text": [
      "<class 'list'>\n",
      "World\n",
      "No of words: 2\n"
     ]
    }
   ],
   "source": [
    "#To find the number of words in a given string\n",
    "a=\"Hello World\"\n",
    "words=a.split(\" \")       #split method returns a list\n",
    "print(type(words))\n",
    "print(words[1])\n",
    "print(\"No of words:\",len(words))"
   ]
  },
  {
   "cell_type": "code",
   "execution_count": 2,
   "id": "62cc71c6-c5e6-4cbf-9e67-d4b171943d50",
   "metadata": {},
   "outputs": [
    {
     "name": "stdout",
     "output_type": "stream",
     "text": [
      "Hello - 5\n",
      "World - 5\n"
     ]
    }
   ],
   "source": [
    "#To find the number of characters in each word in a given string\n",
    "a=\"Hello World\"\n",
    "words=a.split(\" \")\n",
    "for i in words:\n",
    "    print(i,\"-\",len(i))"
   ]
  },
  {
   "cell_type": "code",
   "execution_count": 3,
   "id": "7a2db2ae-7e1c-4c8b-9b55-3237fea263f0",
   "metadata": {},
   "outputs": [
    {
     "name": "stdout",
     "output_type": "stream",
     "text": [
      "Word: Hello -> Alphabets: 5, Digits: 0, Special Characters: 0\n",
      "Word: I -> Alphabets: 1, Digits: 0, Special Characters: 0\n",
      "Word: study -> Alphabets: 5, Digits: 0, Special Characters: 0\n",
      "Word: Python-17 -> Alphabets: 6, Digits: 2, Special Characters: 1\n"
     ]
    }
   ],
   "source": [
    "#Write a logic to find no of alphabets,no of digits,no of special characters in each word of a given sentence\n",
    "a=\"Hello I study Python-17\"\n",
    "words=a.split(\" \")\n",
    "for i in words:\n",
    "     alphabets = digits = special = 0 \n",
    "     for j in i:\n",
    "         if j.isalpha():\n",
    "             alphabets += 1\n",
    "         elif j.isdigit():\n",
    "             digits += 1\n",
    "         else:\n",
    "             special += 1\n",
    "\n",
    "     print(f\"Word: {i} -> Alphabets: {alphabets}, Digits: {digits}, Special Characters: {special}\")"
   ]
  },
  {
   "cell_type": "code",
   "execution_count": 5,
   "id": "256e7997-6f18-43cf-b6a1-4fc2c315bd6c",
   "metadata": {},
   "outputs": [
    {
     "name": "stdout",
     "output_type": "stream",
     "text": [
      "(1, 2, 3, 4, 5)\n",
      "2\n",
      "Max: 5\n",
      "Min: 1\n",
      "Total: 15\n",
      "No of elements: 5\n",
      "(1, 2, 3, 4, 5)\n",
      "(3, 4, 5)\n",
      "(1, 2, 3, 4, 5)\n",
      "5\n",
      "(1, 2, 3, 4, 5)\n",
      "(5, 4, 3, 2, 1)\n"
     ]
    }
   ],
   "source": [
    "a=(1,2,3,4,5)\n",
    "print(a)\n",
    "print(a[1])\n",
    "print(\"Max:\",max(a))\n",
    "print(\"Min:\",min(a))\n",
    "print(\"Total:\",sum(a))\n",
    "print(\"No of elements:\",len(a))\n",
    "print(a[:])\n",
    "print(a[2:])\n",
    "print(a[:5])\n",
    "print(a[-1])\n",
    "print(a[::])\n",
    "print(a[::-1])\n",
    "\n",
    "#List vs Tuple:\n",
    "#Both list and tuple are data structures\n",
    "#Both allow duplicate values\n",
    "#Both are ordered\n",
    "#Both follow indexing\n",
    "#List is mutable while tuple is not\n",
    "#Tuple can be converted to list and vice versa(Type casting/conversion)"
   ]
  },
  {
   "cell_type": "code",
   "execution_count": 7,
   "id": "04796e9c-2645-4e23-85af-c098afc2125b",
   "metadata": {},
   "outputs": [
    {
     "name": "stdout",
     "output_type": "stream",
     "text": [
      "{12: 'Ram', 23: 'raj', 56: 'fin'}\n",
      "Ram\n",
      "{12: 'Venu', 23: 'raj', 56: 'fin'}\n",
      "dict_keys([12, 23, 56])\n",
      "dict_values(['Venu', 'raj', 'fin'])\n",
      "dict_items([(12, 'Venu'), (23, 'raj'), (56, 'fin')])\n"
     ]
    }
   ],
   "source": [
    "#Dictionary:\n",
    "#It is unordered till 3.6,but from 3.7 it is ordered and mutable.\n",
    "dict={12:'Ram',23:'raj',56:'fin'}\n",
    "print(dict)\n",
    "print(dict.get(12))\n",
    "dict[12]='Venu'\n",
    "print(dict)\n",
    "print(dict.keys())   #all keys\n",
    "print(dict.values())  #all values\n",
    "print(dict.items())   #all keys and values of the dictionary"
   ]
  },
  {
   "cell_type": "code",
   "execution_count": null,
   "id": "a4dcfc64-50fe-4da1-a03d-d8c66026cba4",
   "metadata": {},
   "outputs": [],
   "source": []
  }
 ],
 "metadata": {
  "kernelspec": {
   "display_name": "Python [conda env:base] *",
   "language": "python",
   "name": "conda-base-py"
  },
  "language_info": {
   "codemirror_mode": {
    "name": "ipython",
    "version": 3
   },
   "file_extension": ".py",
   "mimetype": "text/x-python",
   "name": "python",
   "nbconvert_exporter": "python",
   "pygments_lexer": "ipython3",
   "version": "3.13.5"
  }
 },
 "nbformat": 4,
 "nbformat_minor": 5
}
